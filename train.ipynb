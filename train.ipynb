{
 "cells": [
  {
   "cell_type": "code",
   "execution_count": 1,
   "metadata": {},
   "outputs": [],
   "source": [
    "from catboost import CatBoostClassifier\n",
    "from sklearn.multiclass import OneVsRestClassifier\n",
    "import numpy as np\n",
    "import pandas as pd\n",
    "import types\n",
    "from collections import defaultdict\n",
    "import itertools\n",
    "from dataclasses import dataclass, field"
   ]
  },
  {
   "cell_type": "code",
   "execution_count": 2,
   "metadata": {},
   "outputs": [],
   "source": [
    "with open(\"words_250000_train.txt\", \"r\") as f:\n",
    "    words: list[str] = [w.strip() for w in f.readlines()]\n",
    "\n",
    "\n"
   ]
  },
  {
   "cell_type": "code",
   "execution_count": 3,
   "metadata": {},
   "outputs": [],
   "source": [
    "@dataclass\n",
    "class State:\n",
    "    already_guessed: set[str] = field(default_factory=set)\n",
    "    def clear(self):\n",
    "        self.already_guessed.clear()\n",
    "\n",
    "\n"
   ]
  },
  {
   "cell_type": "code",
   "execution_count": 4,
   "metadata": {},
   "outputs": [
    {
     "name": "stdout",
     "output_type": "stream",
     "text": [
      "97\n",
      "122\n"
     ]
    }
   ],
   "source": [
    "print(ord('a'))\n",
    "print(ord('z'))"
   ]
  },
  {
   "cell_type": "code",
   "execution_count": 5,
   "metadata": {},
   "outputs": [],
   "source": [
    "def guess(self, word: str) -> str:\n",
    "    letter_indices = list(range(97, 123))\n",
    "    for letter_idx in letter_indices:\n",
    "        if letter_idx not in self.already_guessed:\n",
    "            self.already_guessed.append(letter_idx)\n",
    "            return chr(letter_idx)\n",
    "\n",
    "\n"
   ]
  },
  {
   "cell_type": "code",
   "execution_count": 6,
   "metadata": {},
   "outputs": [],
   "source": [
    "def play_game(actual_word, guess_fn) -> int:\n",
    "    max_mistakes = 7\n",
    "    current_word = \"\".join([\"_\"] * len(actual_word))\n",
    "    mistakes = 0\n",
    "    while mistakes < max_mistakes:\n",
    "        guesssed_word = guess_fn(current_word)\n",
    "        if not guesssed_word.isalpha() or len(guesssed_word) != 1:\n",
    "            raise ValueError(\"Guess must be a single letter\")\n",
    "        if guesssed_word in actual_word:\n",
    "            new_word = list(current_word)\n",
    "            for i, c in enumerate(actual_word):\n",
    "                if c == guesssed_word:\n",
    "                    new_word[i] = guesssed_word\n",
    "            current_word = \"\".join(new_word)\n",
    "            if current_word == actual_word:\n",
    "                return 1\n",
    "        else:\n",
    "            mistakes += 1\n",
    "    return 0"
   ]
  },
  {
   "cell_type": "code",
   "execution_count": 7,
   "metadata": {},
   "outputs": [
    {
     "ename": "AttributeError",
     "evalue": "'set' object has no attribute 'append'",
     "output_type": "error",
     "traceback": [
      "\u001b[0;31m---------------------------------------------------------------------------\u001b[0m",
      "\u001b[0;31mAttributeError\u001b[0m                            Traceback (most recent call last)",
      "Cell \u001b[0;32mIn[7], line 3\u001b[0m\n\u001b[1;32m      1\u001b[0m state \u001b[38;5;241m=\u001b[39m State()\n\u001b[1;32m      2\u001b[0m state\u001b[38;5;241m.\u001b[39mguess \u001b[38;5;241m=\u001b[39m types\u001b[38;5;241m.\u001b[39mMethodType(guess, state)\n\u001b[0;32m----> 3\u001b[0m \u001b[43mplay_game\u001b[49m\u001b[43m(\u001b[49m\u001b[38;5;124;43m\"\u001b[39;49m\u001b[38;5;124;43mbhijkccnbr\u001b[39;49m\u001b[38;5;124;43m\"\u001b[39;49m\u001b[43m,\u001b[49m\u001b[43m \u001b[49m\u001b[38;5;28;43;01mlambda\u001b[39;49;00m\u001b[43m \u001b[49m\u001b[43mx\u001b[49m\u001b[43m:\u001b[49m\u001b[43m \u001b[49m\u001b[43mstate\u001b[49m\u001b[38;5;241;43m.\u001b[39;49m\u001b[43mguess\u001b[49m\u001b[43m(\u001b[49m\u001b[43mx\u001b[49m\u001b[43m)\u001b[49m\u001b[43m)\u001b[49m\n",
      "Cell \u001b[0;32mIn[6], line 6\u001b[0m, in \u001b[0;36mplay_game\u001b[0;34m(actual_word, guess_fn)\u001b[0m\n\u001b[1;32m      4\u001b[0m mistakes \u001b[38;5;241m=\u001b[39m \u001b[38;5;241m0\u001b[39m\n\u001b[1;32m      5\u001b[0m \u001b[38;5;28;01mwhile\u001b[39;00m mistakes \u001b[38;5;241m<\u001b[39m max_mistakes:\n\u001b[0;32m----> 6\u001b[0m     guesssed_word \u001b[38;5;241m=\u001b[39m \u001b[43mguess_fn\u001b[49m\u001b[43m(\u001b[49m\u001b[43mcurrent_word\u001b[49m\u001b[43m)\u001b[49m\n\u001b[1;32m      7\u001b[0m     \u001b[38;5;28;01mif\u001b[39;00m \u001b[38;5;129;01mnot\u001b[39;00m guesssed_word\u001b[38;5;241m.\u001b[39misalpha() \u001b[38;5;129;01mor\u001b[39;00m \u001b[38;5;28mlen\u001b[39m(guesssed_word) \u001b[38;5;241m!=\u001b[39m \u001b[38;5;241m1\u001b[39m:\n\u001b[1;32m      8\u001b[0m         \u001b[38;5;28;01mraise\u001b[39;00m \u001b[38;5;167;01mValueError\u001b[39;00m(\u001b[38;5;124m\"\u001b[39m\u001b[38;5;124mGuess must be a single letter\u001b[39m\u001b[38;5;124m\"\u001b[39m)\n",
      "Cell \u001b[0;32mIn[7], line 3\u001b[0m, in \u001b[0;36m<lambda>\u001b[0;34m(x)\u001b[0m\n\u001b[1;32m      1\u001b[0m state \u001b[38;5;241m=\u001b[39m State()\n\u001b[1;32m      2\u001b[0m state\u001b[38;5;241m.\u001b[39mguess \u001b[38;5;241m=\u001b[39m types\u001b[38;5;241m.\u001b[39mMethodType(guess, state)\n\u001b[0;32m----> 3\u001b[0m play_game(\u001b[38;5;124m\"\u001b[39m\u001b[38;5;124mbhijkccnbr\u001b[39m\u001b[38;5;124m\"\u001b[39m, \u001b[38;5;28;01mlambda\u001b[39;00m x: \u001b[43mstate\u001b[49m\u001b[38;5;241;43m.\u001b[39;49m\u001b[43mguess\u001b[49m\u001b[43m(\u001b[49m\u001b[43mx\u001b[49m\u001b[43m)\u001b[49m)\n",
      "Cell \u001b[0;32mIn[5], line 5\u001b[0m, in \u001b[0;36mguess\u001b[0;34m(self, word)\u001b[0m\n\u001b[1;32m      3\u001b[0m \u001b[38;5;28;01mfor\u001b[39;00m letter_idx \u001b[38;5;129;01min\u001b[39;00m letter_indices:\n\u001b[1;32m      4\u001b[0m     \u001b[38;5;28;01mif\u001b[39;00m letter_idx \u001b[38;5;129;01mnot\u001b[39;00m \u001b[38;5;129;01min\u001b[39;00m \u001b[38;5;28mself\u001b[39m\u001b[38;5;241m.\u001b[39malready_guessed:\n\u001b[0;32m----> 5\u001b[0m         \u001b[38;5;28;43mself\u001b[39;49m\u001b[38;5;241;43m.\u001b[39;49m\u001b[43malready_guessed\u001b[49m\u001b[38;5;241;43m.\u001b[39;49m\u001b[43mappend\u001b[49m(letter_idx)\n\u001b[1;32m      6\u001b[0m         \u001b[38;5;28;01mreturn\u001b[39;00m \u001b[38;5;28mchr\u001b[39m(letter_idx)\n",
      "\u001b[0;31mAttributeError\u001b[0m: 'set' object has no attribute 'append'"
     ]
    }
   ],
   "source": [
    "state = State()\n",
    "state.guess = types.MethodType(guess, state)\n",
    "play_game(\"bhijkccnbr\", lambda x: state.guess(x))"
   ]
  },
  {
   "cell_type": "code",
   "execution_count": 12,
   "metadata": {},
   "outputs": [
    {
     "data": {
      "text/plain": [
       "[179837,\n",
       " 39840,\n",
       " 89367,\n",
       " 74856,\n",
       " 233745,\n",
       " 26431,\n",
       " 51850,\n",
       " 58051,\n",
       " 184746,\n",
       " 3790,\n",
       " 18685,\n",
       " 122431,\n",
       " 62191,\n",
       " 152259,\n",
       " 150052,\n",
       " 65785,\n",
       " 3986,\n",
       " 149228,\n",
       " 148462,\n",
       " 137277,\n",
       " 77304,\n",
       " 21057,\n",
       " 17732,\n",
       " 6050,\n",
       " 40985,\n",
       " 8749]"
      ]
     },
     "execution_count": 12,
     "metadata": {},
     "output_type": "execute_result"
    }
   ],
   "source": [
    "char_freq: defaultdict[str, int] = defaultdict(int)\n",
    "for word in words:\n",
    "    for l in word:\n",
    "        char_freq[l] += 1\n",
    "\n",
    "char_freq = [item[1] for item in sorted(char_freq.items(), key=lambda item: item[0], )]\n",
    "char_freq\n",
    "\n"
   ]
  },
  {
   "cell_type": "code",
   "execution_count": 67,
   "metadata": {},
   "outputs": [
    {
     "name": "stdout",
     "output_type": "stream",
     "text": [
      "mean score: 0.006291245050593928\n"
     ]
    }
   ],
   "source": [
    "def guess(self, word: str) -> str:\n",
    "    letter_indices = list(range(97, 123))\n",
    "    for letter_idx in letter_indices:\n",
    "        if letter_idx not in self.already_guessed:\n",
    "            self.already_guessed.add(letter_idx)\n",
    "            return chr(letter_idx)\n",
    "\n",
    "state = State()\n",
    "state.guess = types.MethodType(guess, state)\n",
    "\n",
    "game_results = []\n",
    "for word in words:\n",
    "    game_result = play_game(word, lambda x: state.guess(x))\n",
    "    game_results.append(game_result)\n",
    "    state.clear()\n",
    "\n",
    "\n",
    "\n",
    "print(\"mean score:\", np.mean(game_results))"
   ]
  },
  {
   "cell_type": "code",
   "execution_count": 64,
   "metadata": {},
   "outputs": [],
   "source": [
    "freq_descending_list = list(char_freq.keys())\n",
    "def guess(self, word: str) -> str:\n",
    "    letter_indices = list(range(97, 123))\n",
    "    for letter in freq_descending_list:\n",
    "        if letter not in self.already_guessed:\n",
    "            self.already_guessed.add(letter)\n",
    "            return letter\n",
    "\n",
    "\n",
    "\n",
    "state = State()\n",
    "state.guess = types.MethodType(guess, state)\n",
    "\n",
    "game_results = []\n",
    "for word in words:\n",
    "    game_result = play_game(word, lambda x: state.guess(x))\n",
    "    game_results.append(game_result)\n",
    "    state.clear()\n",
    "\n"
   ]
  },
  {
   "cell_type": "code",
   "execution_count": null,
   "metadata": {},
   "outputs": [
    {
     "name": "stdout",
     "output_type": "stream",
     "text": [
      "mean score: 0.2074483062032556\n"
     ]
    }
   ],
   "source": [
    "print(\"mean score:\", np.mean(game_results))"
   ]
  },
  {
   "cell_type": "code",
   "execution_count": 71,
   "metadata": {},
   "outputs": [
    {
     "name": "stdout",
     "output_type": "stream",
     "text": [
      "17.0\n"
     ]
    }
   ],
   "source": [
    "\n",
    "word_lens = [len(word) for word in words]\n",
    "print(np.percentile(word_lens, 99))\n"
   ]
  },
  {
   "cell_type": "code",
   "execution_count": 79,
   "metadata": {},
   "outputs": [],
   "source": [
    "max_revealed_chars = 17\n",
    "def gen_x_y_for_word(word: str) -> tuple[np.array, np.array]:\n",
    "    \"\"\"\n",
    "    returns a (combinations - 1) X 34 array, and a \n",
    "    (combinations - 1) X 26 array of labels\n",
    "    \"\"\"\n",
    "    set_chars = set(word)\n",
    "    x = []\n",
    "    y = []\n",
    "    for comb_len in range(1, min(len(set_chars), max_revealed_chars) ):\n",
    "        for combination in itertools.combinations(set_chars, comb_len):\n",
    "            x_row = [0] * 34\n",
    "            y_row = [0] * 26\n",
    "            x.append(x_row)\n",
    "            y.append(y_row)\n",
    "    return np.array(x), np.array(y)\n",
    "\n",
    "\n"
   ]
  },
  {
   "cell_type": "code",
   "execution_count": 85,
   "metadata": {},
   "outputs": [],
   "source": [
    "class PositionalEncoder():\n",
    "    \"\"\" An implementation of positional encoding.\n",
    "\n",
    "    Attributes:\n",
    "        d_model (int): The number of embedding dimensions in the learned\n",
    "            embeddings. This is used to determine the length of the positional\n",
    "            encoding vectors, which make up the rows of the positional encoding\n",
    "            matrix.\n",
    "        max_length (int): The maximum sequence length in the transformer. This\n",
    "            is used to determine the size of the positional encoding matrix.\n",
    "        rounding (int): The number of decimal places to round each of the\n",
    "            values to in the output positional encoding matrix.\n",
    "    \"\"\"\n",
    "\n",
    "    def __init__(self, d_model, max_length, rounding):\n",
    "        self.d_model = d_model\n",
    "        self.max_length = max_length\n",
    "        self.rounding = rounding\n",
    "\n",
    "    def generate_positional_encoding(self):\n",
    "        \"\"\" Generate positional information to add to inputs for encoding.\n",
    "\n",
    "        The positional information is generated using the number of embedding\n",
    "        dimensions (d_model), the maximum length of the sequence (max_length),\n",
    "        and the number of decimal places to round to (rounding). The output\n",
    "        matrix generated is of size (max_length X embedding_dim), where each\n",
    "        row is the positional information to be added to the learned\n",
    "        embeddings, and each column is an embedding dimension.\n",
    "        \"\"\"\n",
    "\n",
    "        position = np.arange(0, self.max_length).reshape(self.max_length, 1)\n",
    "        even_i = np.arange(0, self.d_model, 2)\n",
    "        denominator = 10_000**(even_i / self.d_model)\n",
    "\n",
    "        even_encoded = np.round(np.sin(position / denominator), self.rounding)\n",
    "        odd_encoded = np.round(np.sin(position / denominator), self.rounding)\n",
    "\n",
    "        # Interleave the even and odd encodings\n",
    "        positional_encoding = np.stack((even_encoded, odd_encoded),2).reshape(even_encoded.shape[0],-1)\n",
    "\n",
    "        # If self.d_model is odd remove the extra column generated\n",
    "        if self.d_model % 2 == 1:\n",
    "            positional_encoding = np.delete(positional_encoding, -1, axis=1)\n",
    "\n",
    "        return positional_encoding\n",
    "\n",
    "    def encode(self, input):\n",
    "        \"\"\" Encode the input by adding positional information.\n",
    "\n",
    "        Args:\n",
    "            input (np.array): A two-dimensional array of embeddings. The array\n",
    "                should be of size (self.max_length x self.d_model).\n",
    "\n",
    "        Returns:\n",
    "            output (np.array): A two-dimensional array of embeddings plus the\n",
    "                positional information. The array has size (self.max_length x\n",
    "                self.d_model).\n",
    "        \"\"\"\n",
    "        positional_encoding = self.generate_positional_encoding()\n",
    "        output = input + positional_encoding\n",
    "\n",
    "        return output"
   ]
  },
  {
   "cell_type": "code",
   "execution_count": 86,
   "metadata": {},
   "outputs": [
    {
     "data": {
      "image/png": "[encoded data removed]",
      "text/plain": [
       "<Figure size 1600x400 with 2 Axes>"
      ]
     },
     "metadata": {},
     "output_type": "display_data"
    }
   ],
   "source": [
    "import matplotlib.pyplot as plt\n",
    "\n",
    "# Instantiate a PositionalEncoder class\n",
    "d_model = 400\n",
    "max_length = 100\n",
    "rounding = 4\n",
    "\n",
    "PE = PositionalEncoder(d_model=d_model,\n",
    "                       max_length=max_length,\n",
    "                       rounding=rounding)\n",
    "\n",
    "# Generate positional encodings\n",
    "input = np.round(np.random.rand(max_length, d_model), 4)\n",
    "positional_encoding = PE.generate_positional_encoding()\n",
    "\n",
    "# Plot positional encodings\n",
    "cax = plt.matshow(positional_encoding, cmap='coolwarm')\n",
    "plt.title(f'Positional Encoding Matrix ({d_model=}, {max_length=})')\n",
    "plt.ylabel('Position of the Embeddingnin the Sequence, pos')\n",
    "plt.xlabel('Embedding Dimension, i')\n",
    "plt.gcf().colorbar(cax)\n",
    "plt.gca().xaxis.set_ticks_position('bottom')"
   ]
  },
  {
   "cell_type": "code",
   "execution_count": 84,
   "metadata": {},
   "outputs": [
    {
     "data": {
      "text/plain": [
       "array([[ 0.000e+00,  1.000e+00,  0.000e+00, ...,  1.000e+00,  0.000e+00,\n",
       "         1.000e+00],\n",
       "       [ 8.415e-01,  5.403e-01,  8.163e-01, ...,  1.000e+00,  1.000e-04,\n",
       "         1.000e+00],\n",
       "       [ 9.093e-01, -4.161e-01,  9.430e-01, ...,  1.000e+00,  2.000e-04,\n",
       "         1.000e+00],\n",
       "       ...,\n",
       "       [ 3.796e-01, -9.251e-01, -9.991e-01, ...,  9.999e-01,  1.020e-02,\n",
       "         9.999e-01],\n",
       "       [-5.734e-01, -8.193e-01, -6.119e-01, ...,  9.999e-01,  1.030e-02,\n",
       "         9.999e-01],\n",
       "       [-9.992e-01,  3.980e-02,  2.922e-01, ...,  9.999e-01,  1.040e-02,\n",
       "         9.999e-01]])"
      ]
     },
     "execution_count": 84,
     "metadata": {},
     "output_type": "execute_result"
    }
   ],
   "source": [
    "positional_encoding"
   ]
  },
  {
   "cell_type": "code",
   "execution_count": 87,
   "metadata": {},
   "outputs": [],
   "source": [
    "a = np.array([3])"
   ]
  },
  {
   "cell_type": "code",
   "execution_count": 13,
   "metadata": {},
   "outputs": [
    {
     "name": "stdout",
     "output_type": "stream",
     "text": [
      "=== Basic MultiheadAttention Example ===\n",
      "Input shapes:\n",
      "Query: torch.Size([10, 2, 512])\n",
      "Key: torch.Size([10, 2, 512])\n",
      "Value: torch.Size([10, 2, 512])\n",
      "\n",
      "Output shapes:\n",
      "Attention output: torch.Size([10, 2, 512])\n",
      "Attention weights: torch.Size([2, 10, 10])\n",
      "\n",
      "=== Self-Attention Example ===\n",
      "Self-attention output shape: torch.Size([10, 2, 512])\n",
      "Self-attention weights shape: torch.Size([2, 10, 10])\n",
      "\n",
      "=== Cross-Attention Example ===\n",
      "Cross-attention output shape: torch.Size([8, 2, 512])\n",
      "Cross-attention weights shape: torch.Size([2, 8, 15])\n",
      "\n",
      "=== Attention with Masking Example ===\n",
      "Causal mask shape: torch.Size([10, 10])\n",
      "Masked attention output shape: torch.Size([10, 2, 512])\n",
      "\n",
      "=== Key Padding Mask Example ===\n",
      "Padded attention output shape: torch.Size([10, 2, 512])\n",
      "\n",
      "=== Transformer Block Example ===\n",
      "Transformer block output shape: torch.Size([10, 2, 512])\n",
      "\n",
      "=== Batch-First Format Example ===\n",
      "Batch-first input shape: torch.Size([2, 10, 512])\n",
      "Batch-first output shape: torch.Size([2, 10, 512])\n",
      "Batch-first weights shape: torch.Size([2, 10, 10])\n",
      "\n",
      "=== Summary ===\n",
      "Key points about PyTorch MultiheadAttention:\n",
      "1. Default input format: (seq_len, batch_size, embed_dim)\n",
      "2. Use batch_first=True for (batch_size, seq_len, embed_dim)\n",
      "3. Returns (attention_output, attention_weights)\n",
      "4. Supports various masking strategies\n",
      "5. Can be used for self-attention and cross-attention\n"
     ]
    }
   ],
   "source": [
    "import torch\n",
    "import torch.nn as nn\n",
    "import torch.nn.functional as F\n",
    "\n",
    "# Set random seed for reproducibility\n",
    "torch.manual_seed(42)\n",
    "\n",
    "# Example 1: Basic MultiheadAttention usage\n",
    "print(\"=== Basic MultiheadAttention Example ===\")\n",
    "\n",
    "# Parameters\n",
    "batch_size = 2\n",
    "seq_len = 10\n",
    "embed_dim = 512\n",
    "num_heads = 8\n",
    "\n",
    "# Create the MultiheadAttention layer\n",
    "multihead_attn = nn.MultiheadAttention(embed_dim=embed_dim, num_heads=num_heads)\n",
    "\n",
    "# Create sample input tensors\n",
    "# Shape: (seq_len, batch_size, embed_dim)\n",
    "query = torch.randn(seq_len, batch_size, embed_dim)\n",
    "key = torch.randn(seq_len, batch_size, embed_dim)\n",
    "value = torch.randn(seq_len, batch_size, embed_dim)\n",
    "\n",
    "print(f\"Input shapes:\")\n",
    "print(f\"Query: {query.shape}\")\n",
    "print(f\"Key: {key.shape}\")\n",
    "print(f\"Value: {value.shape}\")\n",
    "\n",
    "# Forward pass\n",
    "attn_output, attn_weights = multihead_attn(query, key, value)\n",
    "\n",
    "print(f\"\\nOutput shapes:\")\n",
    "print(f\"Attention output: {attn_output.shape}\")\n",
    "print(f\"Attention weights: {attn_weights.shape}\")\n",
    "\n",
    "# Example 2: Self-attention (query, key, value are the same)\n",
    "print(\"\\n=== Self-Attention Example ===\")\n",
    "\n",
    "# For self-attention, use the same tensor for query, key, and value\n",
    "input_seq = torch.randn(seq_len, batch_size, embed_dim)\n",
    "self_attn_output, self_attn_weights = multihead_attn(input_seq, input_seq, input_seq)\n",
    "\n",
    "print(f\"Self-attention output shape: {self_attn_output.shape}\")\n",
    "print(f\"Self-attention weights shape: {self_attn_weights.shape}\")\n",
    "\n",
    "# Example 3: Cross-attention with different sequence lengths\n",
    "print(\"\\n=== Cross-Attention Example ===\")\n",
    "\n",
    "# Different sequence lengths for encoder-decoder attention\n",
    "encoder_seq_len = 15\n",
    "decoder_seq_len = 8\n",
    "\n",
    "# Create cross-attention layer\n",
    "cross_attn = nn.MultiheadAttention(embed_dim=embed_dim, num_heads=num_heads)\n",
    "\n",
    "# Decoder queries, encoder keys and values\n",
    "decoder_query = torch.randn(decoder_seq_len, batch_size, embed_dim)\n",
    "encoder_kv = torch.randn(encoder_seq_len, batch_size, embed_dim)\n",
    "\n",
    "cross_attn_output, cross_attn_weights = cross_attn(\n",
    "    query=decoder_query,\n",
    "    key=encoder_kv,\n",
    "    value=encoder_kv\n",
    ")\n",
    "\n",
    "print(f\"Cross-attention output shape: {cross_attn_output.shape}\")\n",
    "print(f\"Cross-attention weights shape: {cross_attn_weights.shape}\")\n",
    "\n",
    "# Example 4: Using attention masks\n",
    "print(\"\\n=== Attention with Masking Example ===\")\n",
    "\n",
    "# Create a causal mask for decoder self-attention (prevents looking at future tokens)\n",
    "def generate_square_subsequent_mask(sz):\n",
    "    \"\"\"Generate a square mask for the sequence. The masked positions are filled with float('-inf').\"\"\"\n",
    "    mask = torch.triu(torch.ones(sz, sz) * float('-inf'), diagonal=1)\n",
    "    return mask\n",
    "\n",
    "causal_mask = generate_square_subsequent_mask(seq_len)\n",
    "print(f\"Causal mask shape: {causal_mask.shape}\")\n",
    "\n",
    "# Apply masked self-attention\n",
    "masked_attn_output, masked_attn_weights = multihead_attn(\n",
    "    query=input_seq,\n",
    "    key=input_seq,\n",
    "    value=input_seq,\n",
    "    attn_mask=causal_mask\n",
    ")\n",
    "\n",
    "print(f\"Masked attention output shape: {masked_attn_output.shape}\")\n",
    "\n",
    "# Example 5: Key padding mask (for variable length sequences)\n",
    "print(\"\\n=== Key Padding Mask Example ===\")\n",
    "\n",
    "# Create a key padding mask (True for positions to ignore)\n",
    "# Let's say batch has sequences of different lengths: [8, 6] out of max 10\n",
    "key_padding_mask = torch.tensor([\n",
    "    [False, False, False, False, False, False, False, False, True, True],  # First sample: length 8\n",
    "    [False, False, False, False, False, False, True, True, True, True]     # Second sample: length 6\n",
    "])\n",
    "\n",
    "padded_attn_output, padded_attn_weights = multihead_attn(\n",
    "    query=input_seq,\n",
    "    key=input_seq,\n",
    "    value=input_seq,\n",
    "    key_padding_mask=key_padding_mask\n",
    ")\n",
    "\n",
    "print(f\"Padded attention output shape: {padded_attn_output.shape}\")\n",
    "\n",
    "# Example 6: Complete Transformer block with MultiheadAttention\n",
    "print(\"\\n=== Transformer Block Example ===\")\n",
    "\n",
    "class TransformerBlock(nn.Module):\n",
    "    def __init__(self, embed_dim, num_heads, ff_dim, dropout=0.1):\n",
    "        super().__init__()\n",
    "        self.attention = nn.MultiheadAttention(embed_dim, num_heads, dropout=dropout)\n",
    "        self.feed_forward = nn.Sequential(\n",
    "            nn.Linear(embed_dim, ff_dim),\n",
    "            nn.ReLU(),\n",
    "            nn.Linear(ff_dim, embed_dim)\n",
    "        )\n",
    "        self.norm1 = nn.LayerNorm(embed_dim)\n",
    "        self.norm2 = nn.LayerNorm(embed_dim)\n",
    "        self.dropout = nn.Dropout(dropout)\n",
    "    \n",
    "    def forward(self, x, mask=None, key_padding_mask=None):\n",
    "        # Self-attention with residual connection\n",
    "        attn_out, _ = self.attention(x, x, x, attn_mask=mask, key_padding_mask=key_padding_mask)\n",
    "        x = self.norm1(x + self.dropout(attn_out))\n",
    "        \n",
    "        # Feed-forward with residual connection\n",
    "        ff_out = self.feed_forward(x)\n",
    "        x = self.norm2(x + self.dropout(ff_out))\n",
    "        \n",
    "        return x\n",
    "\n",
    "# Create and test the transformer block\n",
    "transformer_block = TransformerBlock(embed_dim=embed_dim, num_heads=num_heads, ff_dim=2048)\n",
    "transformer_output = transformer_block(input_seq)\n",
    "\n",
    "print(f\"Transformer block output shape: {transformer_output.shape}\")\n",
    "\n",
    "# Example 7: Batch-first format (more common in practice)\n",
    "print(\"\\n=== Batch-First Format Example ===\")\n",
    "\n",
    "# Create MultiheadAttention with batch_first=True\n",
    "batch_first_attn = nn.MultiheadAttention(\n",
    "    embed_dim=embed_dim, \n",
    "    num_heads=num_heads, \n",
    "    batch_first=True\n",
    ")\n",
    "\n",
    "# Input shape: (batch_size, seq_len, embed_dim)\n",
    "batch_first_input = torch.randn(batch_size, seq_len, embed_dim)\n",
    "bf_output, bf_weights = batch_first_attn(\n",
    "    batch_first_input, \n",
    "    batch_first_input, \n",
    "    batch_first_input\n",
    ")\n",
    "\n",
    "print(f\"Batch-first input shape: {batch_first_input.shape}\")\n",
    "print(f\"Batch-first output shape: {bf_output.shape}\")\n",
    "print(f\"Batch-first weights shape: {bf_weights.shape}\")\n",
    "\n",
    "print(\"\\n=== Summary ===\")\n",
    "print(\"Key points about PyTorch MultiheadAttention:\")\n",
    "print(\"1. Default input format: (seq_len, batch_size, embed_dim)\")\n",
    "print(\"2. Use batch_first=True for (batch_size, seq_len, embed_dim)\")\n",
    "print(\"3. Returns (attention_output, attention_weights)\")\n",
    "print(\"4. Supports various masking strategies\")\n",
    "print(\"5. Can be used for self-attention and cross-attention\")"
   ]
  },
  {
   "cell_type": "code",
   "execution_count": 17,
   "metadata": {},
   "outputs": [
    {
     "data": {
      "text/plain": [
       "tensor([[-inf, 0., 0., 0.],\n",
       "        [-inf, -inf, 0., 0.],\n",
       "        [-inf, -inf, -inf, 0.],\n",
       "        [-inf, -inf, -inf, -inf]])"
      ]
     },
     "execution_count": 17,
     "metadata": {},
     "output_type": "execute_result"
    }
   ],
   "source": [
    "sz = 4\n",
    "torch.tril(torch.ones(sz, sz) * float('-inf'), )"
   ]
  },
  {
   "cell_type": "code",
   "execution_count": null,
   "metadata": {},
   "outputs": [],
   "source": []
  }
 ],
 "metadata": {
  "kernelspec": {
   "display_name": "mfe",
   "language": "python",
   "name": "python3"
  },
  "language_info": {
   "codemirror_mode": {
    "name": "ipython",
    "version": 3
   },
   "file_extension": ".py",
   "mimetype": "text/x-python",
   "name": "python",
   "nbconvert_exporter": "python",
   "pygments_lexer": "ipython3",
   "version": "3.11.0"
  }
 },
 "nbformat": 4,
 "nbformat_minor": 2
}
